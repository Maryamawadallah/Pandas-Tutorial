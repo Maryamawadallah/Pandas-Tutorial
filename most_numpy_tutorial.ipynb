{
  "cells": [
    {
      "cell_type": "markdown",
      "metadata": {
        "id": "view-in-github",
        "colab_type": "text"
      },
      "source": [
        "<a href=\"https://colab.research.google.com/github/Maryamawadallah/Pandas-Tutorial/blob/main/most_numpy_tutorial.ipynb\" target=\"_parent\"><img src=\"https://colab.research.google.com/assets/colab-badge.svg\" alt=\"Open In Colab\"/></a>"
      ]
    },
    {
      "cell_type": "code",
      "execution_count": null,
      "id": "737ab855",
      "metadata": {
        "id": "737ab855"
      },
      "outputs": [],
      "source": [
        "import numpy as np"
      ]
    },
    {
      "cell_type": "code",
      "execution_count": null,
      "id": "7c8e561c",
      "metadata": {
        "id": "7c8e561c",
        "outputId": "91dbbdfd-ce9d-42a6-e1cc-872bf364cc3d"
      },
      "outputs": [
        {
          "data": {
            "text/plain": [
              "array([[0, 1, 2],\n",
              "       [3, 4, 5],\n",
              "       [6, 7, 8]])"
            ]
          },
          "execution_count": 59,
          "metadata": {},
          "output_type": "execute_result"
        }
      ],
      "source": [
        "a = np.arange(9).reshape(3, 3)\n",
        "a"
      ]
    },
    {
      "cell_type": "code",
      "execution_count": null,
      "id": "59912062",
      "metadata": {
        "id": "59912062",
        "outputId": "45756784-dbfb-484d-bad0-9dd869b6c808"
      },
      "outputs": [
        {
          "data": {
            "text/plain": [
              "((3, 3), 2, 9, dtype('int64'), numpy.ndarray)"
            ]
          },
          "execution_count": 60,
          "metadata": {},
          "output_type": "execute_result"
        }
      ],
      "source": [
        "a.shape, a.ndim, a.size, a.dtype, type(a)"
      ]
    },
    {
      "cell_type": "code",
      "execution_count": null,
      "id": "ee4be6e7",
      "metadata": {
        "id": "ee4be6e7",
        "outputId": "0716953e-c1d2-4e66-c543-6f30fe100a57"
      },
      "outputs": [
        {
          "data": {
            "text/plain": [
              "array([[0],\n",
              "       [1],\n",
              "       [2],\n",
              "       [3],\n",
              "       [4],\n",
              "       [5],\n",
              "       [6],\n",
              "       [7],\n",
              "       [8]])"
            ]
          },
          "execution_count": 61,
          "metadata": {},
          "output_type": "execute_result"
        }
      ],
      "source": [
        "a.reshape((-1, 1))"
      ]
    },
    {
      "cell_type": "code",
      "execution_count": null,
      "id": "e4c53ff6",
      "metadata": {
        "id": "e4c53ff6",
        "outputId": "7b67e8fa-657e-43eb-a365-841c3f8a3ed5"
      },
      "outputs": [
        {
          "data": {
            "text/plain": [
              "array([[0, 1, 2, 3, 4, 5, 6, 7, 8]])"
            ]
          },
          "execution_count": 62,
          "metadata": {},
          "output_type": "execute_result"
        }
      ],
      "source": [
        "a.reshape((1, -1))"
      ]
    },
    {
      "cell_type": "code",
      "execution_count": null,
      "id": "43b9022b",
      "metadata": {
        "id": "43b9022b",
        "outputId": "0657bd30-bf81-434d-ef51-4e745b2680e5"
      },
      "outputs": [
        {
          "data": {
            "text/plain": [
              "array([[0., 0., 0., 0.],\n",
              "       [0., 0., 0., 0.],\n",
              "       [0., 0., 0., 0.]])"
            ]
          },
          "execution_count": 7,
          "metadata": {},
          "output_type": "execute_result"
        }
      ],
      "source": [
        "np.zeros((3, 4))"
      ]
    },
    {
      "cell_type": "code",
      "execution_count": null,
      "id": "812c5bfd",
      "metadata": {
        "id": "812c5bfd",
        "outputId": "d82ee670-e3b5-47cb-843d-1bc27030c6ff"
      },
      "outputs": [
        {
          "data": {
            "text/plain": [
              "array([1., 1., 1., 1., 1.])"
            ]
          },
          "execution_count": 8,
          "metadata": {},
          "output_type": "execute_result"
        }
      ],
      "source": [
        "np.ones(5)"
      ]
    },
    {
      "cell_type": "code",
      "execution_count": null,
      "id": "2ac71e14",
      "metadata": {
        "id": "2ac71e14",
        "outputId": "0cef004d-0c31-4618-ade0-01574bcce035"
      },
      "outputs": [
        {
          "data": {
            "text/plain": [
              "array([0.  , 0.25, 0.5 , 0.75, 1.  ])"
            ]
          },
          "execution_count": 17,
          "metadata": {},
          "output_type": "execute_result"
        }
      ],
      "source": [
        "np.linspace(0, 1, 5)"
      ]
    },
    {
      "cell_type": "code",
      "execution_count": null,
      "id": "d6a95d3d",
      "metadata": {
        "id": "d6a95d3d",
        "outputId": "68c16b1b-ddf4-43d3-e0dc-bfabafdf70ed"
      },
      "outputs": [
        {
          "name": "stdout",
          "output_type": "stream",
          "text": [
            "[11 12 14 16]\n",
            "[ 1  4 16 36]\n",
            "57\n"
          ]
        }
      ],
      "source": [
        "x = np.array([1, 2, 4, 6])\n",
        "print(x + 10)\n",
        "print(x ** 2)\n",
        "print(np.sum(x ** 2))"
      ]
    },
    {
      "cell_type": "code",
      "execution_count": null,
      "id": "012d2338",
      "metadata": {
        "id": "012d2338",
        "outputId": "f8bc1b48-42f7-4b17-b440-de493805f40e"
      },
      "outputs": [
        {
          "data": {
            "text/plain": [
              "(6, 3.25, 1.920286436967152)"
            ]
          },
          "execution_count": 21,
          "metadata": {},
          "output_type": "execute_result"
        }
      ],
      "source": [
        "np.max(x), np.mean(x), np.std(x)"
      ]
    },
    {
      "cell_type": "code",
      "execution_count": null,
      "id": "95e6ef5a",
      "metadata": {
        "id": "95e6ef5a",
        "outputId": "0afd06e4-a8ce-471e-99b7-713e701ac13f"
      },
      "outputs": [
        {
          "data": {
            "text/plain": [
              "array([0, 1, 2, 3, 4, 5, 6, 7, 8, 9])"
            ]
          },
          "execution_count": 24,
          "metadata": {},
          "output_type": "execute_result"
        }
      ],
      "source": [
        "x = np.arange(10)\n",
        "x"
      ]
    },
    {
      "cell_type": "code",
      "execution_count": null,
      "id": "3673681a",
      "metadata": {
        "id": "3673681a",
        "outputId": "664a5ddf-6df2-4f60-af61-491e81311c2f"
      },
      "outputs": [
        {
          "data": {
            "text/plain": [
              "array([2, 3, 4, 5])"
            ]
          },
          "execution_count": 25,
          "metadata": {},
          "output_type": "execute_result"
        }
      ],
      "source": [
        "x[2:6]"
      ]
    },
    {
      "cell_type": "code",
      "execution_count": null,
      "id": "d853048d",
      "metadata": {
        "id": "d853048d",
        "outputId": "a10a503b-fed7-4477-b6bf-bea7ee9653d8"
      },
      "outputs": [
        {
          "data": {
            "text/plain": [
              "9"
            ]
          },
          "execution_count": 26,
          "metadata": {},
          "output_type": "execute_result"
        }
      ],
      "source": [
        "x[-1]"
      ]
    },
    {
      "cell_type": "code",
      "execution_count": null,
      "id": "6eeef8b9",
      "metadata": {
        "id": "6eeef8b9",
        "outputId": "2994ad95-70d2-48fb-ae00-287b7e27fa71"
      },
      "outputs": [
        {
          "data": {
            "text/plain": [
              "array([[4., 2.],\n",
              "       [3., 8.]])"
            ]
          },
          "execution_count": 27,
          "metadata": {},
          "output_type": "execute_result"
        }
      ],
      "source": [
        "a = np.array([4., 2.])\n",
        "b = np.array([3., 8.])\n",
        "\n",
        "np.vstack([a, b])"
      ]
    },
    {
      "cell_type": "code",
      "execution_count": null,
      "id": "a296eb5f",
      "metadata": {
        "id": "a296eb5f",
        "outputId": "72585f3a-6b94-4668-dce3-4fddffaccb63"
      },
      "outputs": [
        {
          "data": {
            "text/plain": [
              "array([4., 2., 3., 8.])"
            ]
          },
          "execution_count": 28,
          "metadata": {},
          "output_type": "execute_result"
        }
      ],
      "source": [
        "np.hstack([a, b])"
      ]
    },
    {
      "cell_type": "code",
      "execution_count": null,
      "id": "aa5a5d64",
      "metadata": {
        "id": "aa5a5d64",
        "outputId": "238bb256-9ffd-4ddf-d12f-67998e4668e9"
      },
      "outputs": [
        {
          "data": {
            "text/plain": [
              "array([4., 2., 3., 8.])"
            ]
          },
          "execution_count": 29,
          "metadata": {},
          "output_type": "execute_result"
        }
      ],
      "source": [
        "np.concatenate([a, b])"
      ]
    },
    {
      "cell_type": "code",
      "execution_count": null,
      "id": "3e89fa87",
      "metadata": {
        "id": "3e89fa87",
        "outputId": "bcf4f96a-84a5-42ce-dc6d-8cc15606615a"
      },
      "outputs": [
        {
          "data": {
            "text/plain": [
              "array([100,   1,   2,   3,   4,   5,   6,   7,   8,   9])"
            ]
          },
          "execution_count": 32,
          "metadata": {},
          "output_type": "execute_result"
        }
      ],
      "source": [
        "x = np.arange(10)\n",
        "y = x\n",
        "y[0] = 100\n",
        "x"
      ]
    },
    {
      "cell_type": "code",
      "execution_count": null,
      "id": "d535127d",
      "metadata": {
        "id": "d535127d",
        "outputId": "cbf9bbf6-c24e-4d56-ad8b-7321ba4f2cca"
      },
      "outputs": [
        {
          "data": {
            "text/plain": [
              "array([0, 1, 2, 3, 4, 5, 6, 7, 8, 9])"
            ]
          },
          "execution_count": 33,
          "metadata": {},
          "output_type": "execute_result"
        }
      ],
      "source": [
        "x = np.arange(10)\n",
        "y = x.copy()\n",
        "y[0] = 100\n",
        "x"
      ]
    },
    {
      "cell_type": "code",
      "execution_count": null,
      "id": "eef550e4",
      "metadata": {
        "id": "eef550e4",
        "outputId": "0b46f99d-c64d-475e-c3b5-620dbbecd3c2"
      },
      "outputs": [
        {
          "data": {
            "text/plain": [
              "37"
            ]
          },
          "execution_count": 38,
          "metadata": {},
          "output_type": "execute_result"
        }
      ],
      "source": [
        "x = np.array([1, 2, 3])\n",
        "y = np.array([3, 2, 10])\n",
        "x.dot(y)"
      ]
    },
    {
      "cell_type": "code",
      "execution_count": null,
      "id": "219fb7bb",
      "metadata": {
        "id": "219fb7bb",
        "outputId": "559738d8-60eb-41fe-a16b-6fbc7b2f19c2"
      },
      "outputs": [
        {
          "data": {
            "text/plain": [
              "array([[ 1,  2,  3],\n",
              "       [11, 12, 13],\n",
              "       [21, 22, 23],\n",
              "       [31, 32, 33]])"
            ]
          },
          "execution_count": 41,
          "metadata": {},
          "output_type": "execute_result"
        }
      ],
      "source": [
        "a = np.array([[0,0,0],\n",
        "              [10,10,10],\n",
        "              [20,20,20],\n",
        "              [30,30,30]])\n",
        "b = np.array([1,2,3])\n",
        "\n",
        "a + b   # broadcasting"
      ]
    },
    {
      "cell_type": "code",
      "execution_count": null,
      "id": "66707865",
      "metadata": {
        "id": "66707865",
        "outputId": "15794a89-08f6-488c-d00a-c5a7bcbf70d0"
      },
      "outputs": [
        {
          "data": {
            "text/plain": [
              "array([2., 2., 2.])"
            ]
          },
          "execution_count": 48,
          "metadata": {},
          "output_type": "execute_result"
        }
      ],
      "source": [
        "np.ones(3) + np.ones(3)"
      ]
    },
    {
      "cell_type": "code",
      "execution_count": null,
      "id": "97bba5ec",
      "metadata": {
        "id": "97bba5ec",
        "outputId": "38c2c8c3-aefb-47e8-e3ee-7f24a586d804"
      },
      "outputs": [
        {
          "data": {
            "text/plain": [
              "array([[2., 2., 2.],\n",
              "       [2., 2., 2.],\n",
              "       [2., 2., 2.]])"
            ]
          },
          "execution_count": 49,
          "metadata": {},
          "output_type": "execute_result"
        }
      ],
      "source": [
        "np.ones((3,1)) + np.ones(3)\n",
        "# Broadcasting mistakes can be tricky. Probably you didn't mean that"
      ]
    },
    {
      "cell_type": "code",
      "execution_count": null,
      "id": "e033f5b1",
      "metadata": {
        "id": "e033f5b1",
        "outputId": "6def11b7-c86c-42c4-d46c-f1b1f777e467"
      },
      "outputs": [
        {
          "data": {
            "text/plain": [
              "array([[ 0, 10, 20, 30],\n",
              "       [ 0, 10, 20, 30],\n",
              "       [ 0, 10, 20, 30]])"
            ]
          },
          "execution_count": 50,
          "metadata": {},
          "output_type": "execute_result"
        }
      ],
      "source": [
        "a.T"
      ]
    },
    {
      "cell_type": "code",
      "execution_count": null,
      "id": "9d68d212",
      "metadata": {
        "id": "9d68d212",
        "outputId": "30da8054-043f-4ef5-e2de-a4358410c04f"
      },
      "outputs": [
        {
          "data": {
            "text/plain": [
              "array([[ 8,  5],\n",
              "       [14,  8]])"
            ]
          },
          "execution_count": 64,
          "metadata": {},
          "output_type": "execute_result"
        }
      ],
      "source": [
        "a = np.array([[1, 2],\n",
        "              [2, 3]])\n",
        "\n",
        "b = np.array([[4, 1],\n",
        "              [2, 2]])\n",
        "\n",
        "np.matmul(a, b)"
      ]
    },
    {
      "cell_type": "code",
      "execution_count": null,
      "id": "eb3f96bc",
      "metadata": {
        "id": "eb3f96bc",
        "outputId": "a247976a-1aa0-481d-8e58-67009bd049b8"
      },
      "outputs": [
        {
          "data": {
            "text/plain": [
              "array([[ 8,  5],\n",
              "       [14,  8]])"
            ]
          },
          "execution_count": 66,
          "metadata": {},
          "output_type": "execute_result"
        }
      ],
      "source": [
        "res = a @ b\n",
        "res"
      ]
    },
    {
      "cell_type": "code",
      "execution_count": null,
      "id": "f6abea71",
      "metadata": {
        "id": "f6abea71",
        "outputId": "0b7cffa0-bc68-477f-bdc4-350f0832b22c"
      },
      "outputs": [
        {
          "data": {
            "text/plain": [
              "array([[-1.33333333,  0.83333333],\n",
              "       [ 2.33333333, -1.33333333]])"
            ]
          },
          "execution_count": 67,
          "metadata": {},
          "output_type": "execute_result"
        }
      ],
      "source": [
        "from numpy.linalg import inv\n",
        "inv(res)"
      ]
    },
    {
      "cell_type": "code",
      "execution_count": null,
      "id": "6cc1ac6f",
      "metadata": {
        "id": "6cc1ac6f",
        "outputId": "f682fa8a-eef7-4cb0-f3f1-f06568cfec23"
      },
      "outputs": [
        {
          "data": {
            "text/plain": [
              "array([[-1,  0],\n",
              "       [ 2, -1]])"
            ]
          },
          "execution_count": 69,
          "metadata": {},
          "output_type": "execute_result"
        }
      ],
      "source": [
        "inv(res).astype(np.int64)"
      ]
    },
    {
      "cell_type": "code",
      "execution_count": null,
      "id": "d80f2eba",
      "metadata": {
        "id": "d80f2eba"
      },
      "outputs": [],
      "source": []
    }
  ],
  "metadata": {
    "kernelspec": {
      "display_name": "Python 3 (ipykernel)",
      "language": "python",
      "name": "python3"
    },
    "language_info": {
      "codemirror_mode": {
        "name": "ipython",
        "version": 3
      },
      "file_extension": ".py",
      "mimetype": "text/x-python",
      "name": "python",
      "nbconvert_exporter": "python",
      "pygments_lexer": "ipython3",
      "version": "3.9.7"
    },
    "colab": {
      "provenance": [],
      "include_colab_link": true
    }
  },
  "nbformat": 4,
  "nbformat_minor": 5
}